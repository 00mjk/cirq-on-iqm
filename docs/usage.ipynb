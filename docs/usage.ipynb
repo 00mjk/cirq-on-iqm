{
 "cells": [
  {
   "cell_type": "code",
   "execution_count": 1,
   "metadata": {},
   "outputs": [],
   "source": [
    "import cirq\n",
    "from cirq_iqm import Adonis, XYGate, IsingGate"
   ]
  },
  {
   "cell_type": "markdown",
   "metadata": {},
   "source": [
    "# Adonis\n",
    "\n",
    "Qubit connectivity:\n",
    "```\n",
    "      QB1\n",
    "       |\n",
    "QB4 - QB3 - QB2\n",
    "       |\n",
    "      QB5\n",
    "```"
   ]
  },
  {
   "cell_type": "code",
   "execution_count": 2,
   "metadata": {
    "pycharm": {
     "name": "#%%\n"
    }
   },
   "outputs": [
    {
     "name": "stdout",
     "output_type": "stream",
     "text": [
      "(<class 'cirq.ops.phased_x_gate.PhasedXPowGate'>, <class 'cirq.ops.common_gates.XPowGate'>, <class 'cirq.ops.common_gates.YPowGate'>, <class 'cirq.ops.common_gates.ZPowGate'>, <class 'cirq_iqm.iqm_gates.IsingGate'>, <class 'cirq_iqm.iqm_gates.XYGate'>, <class 'cirq.ops.measurement_gate.MeasurementGate'>)\n",
      "(IQMQubit(1), IQMQubit(2), IQMQubit(3), IQMQubit(4), IQMQubit(5))\n"
     ]
    }
   ],
   "source": [
    "adonis = Adonis()\n",
    "print(adonis.NATIVE_GATES)\n",
    "print(adonis.qubits)"
   ]
  },
  {
   "cell_type": "markdown",
   "metadata": {},
   "source": [
    "-----\n",
    "Create a quantum circuit and insert native gates"
   ]
  },
  {
   "cell_type": "code",
   "execution_count": 3,
   "metadata": {
    "pycharm": {
     "name": "#%%\n"
    }
   },
   "outputs": [
    {
     "name": "stdout",
     "output_type": "stream",
     "text": [
      "QB1: ───X───XY──────────────────────ZZ─────────────────────────\n",
      "            │                       │\n",
      "QB3: ───────XY^0.5───PhX(0.3)^0.5───ZZ^0.2───M('QB3_result')───\n"
     ]
    }
   ],
   "source": [
    "QB1, QB2, QB3 = adonis.qubits[:3]\n",
    "native_circuit = cirq.Circuit(device=adonis)\n",
    "native_circuit.append(cirq.X(QB1))\n",
    "native_circuit.append(XYGate(exponent=0.5)(QB1, QB3))\n",
    "native_circuit.append(cirq.PhasedXPowGate(phase_exponent=0.3, exponent=0.5)(QB3))\n",
    "native_circuit.append(IsingGate(exponent=0.2)(QB1, QB3))\n",
    "native_circuit.append(cirq.measure(QB3, key='QB3_result'))\n",
    "print(native_circuit)"
   ]
  },
  {
   "cell_type": "markdown",
   "metadata": {},
   "source": [
    "-----\n",
    "Insert non-native gates, which are immediately decomposed to native ones"
   ]
  },
  {
   "cell_type": "code",
   "execution_count": 4,
   "metadata": {
    "pycharm": {
     "name": "#%%\n"
    }
   },
   "outputs": [
    {
     "name": "stdout",
     "output_type": "stream",
     "text": [
      "QB1: ───Y^0.5────X───ZZ───────S^-1─────────────────────────────\n",
      "                     │\n",
      "QB3: ───Y^-0.5───────ZZ^0.5───S^-1───Y^0.5───M('QB3_result')───\n"
     ]
    }
   ],
   "source": [
    "arb_circuit = cirq.Circuit(device=adonis)\n",
    "arb_circuit.append(cirq.H(QB1))\n",
    "arb_circuit.append(cirq.CNOT(QB1, QB3))\n",
    "arb_circuit.append(cirq.measure(QB3, key='QB3_result'))\n",
    "print(arb_circuit)"
   ]
  },
  {
   "cell_type": "markdown",
   "metadata": {},
   "source": [
    "-----\n",
    "Optimize the circuit"
   ]
  },
  {
   "cell_type": "code",
   "execution_count": 5,
   "metadata": {},
   "outputs": [
    {
     "name": "stdout",
     "output_type": "stream",
     "text": [
      "QB1: ───PhX(-0.5)^0.5───ZZ───────S──────────────────────────────\n",
      "                        │\n",
      "QB3: ───PhX(-0.5)^0.5───ZZ^0.5───PhX(1)^0.5───M('QB3_result')───\n"
     ]
    }
   ],
   "source": [
    "adonis.simplify_circuit(arb_circuit)\n",
    "print(arb_circuit)"
   ]
  },
  {
   "cell_type": "markdown",
   "metadata": {
    "pycharm": {
     "name": "#%% md\n"
    }
   },
   "source": [
    "-----\n",
    "See `examples/qasm_demo.py` for more examples\n"
   ]
  },
  {
   "cell_type": "code",
   "execution_count": null,
   "metadata": {},
   "outputs": [],
   "source": []
  }
 ],
 "metadata": {
  "kernelspec": {
   "display_name": "cirq_iqm",
   "language": "python",
   "name": "cirq_iqm"
  },
  "language_info": {
   "codemirror_mode": {
    "name": "ipython",
    "version": 3
   },
   "file_extension": ".py",
   "mimetype": "text/x-python",
   "name": "python",
   "nbconvert_exporter": "python",
   "pygments_lexer": "ipython3",
   "version": "3.8.5"
  },
  "pycharm": {
   "stem_cell": {
    "cell_type": "raw",
    "metadata": {
     "collapsed": false
    },
    "source": [
     "# Copyright 2020–2021 Cirq on IQM developers\n",
     "#\n",
     "# Licensed under the Apache License, Version 2.0 (the \"License\");\n",
     "# you may not use this file except in compliance with the License.\n",
     "# You may obtain a copy of the License at\n",
     "#\n",
     "#     http://www.apache.org/licenses/LICENSE-2.0\n",
     "#\n",
     "# Unless required by applicable law or agreed to in writing, software\n",
     "# distributed under the License is distributed on an \"AS IS\" BASIS,\n",
     "# WITHOUT WARRANTIES OR CONDITIONS OF ANY KIND, either express or implied.\n",
     "# See the License for the specific language governing permissions and\n",
     "# limitations under the License.\n"
    ]
   }
  }
 },
 "nbformat": 4,
 "nbformat_minor": 1
}
